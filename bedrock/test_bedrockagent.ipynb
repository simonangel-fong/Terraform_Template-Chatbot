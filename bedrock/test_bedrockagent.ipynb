{
 "cells": [
  {
   "cell_type": "code",
   "execution_count": null,
   "id": "a7008025",
   "metadata": {},
   "outputs": [],
   "source": [
    "BEDROCK_AGENT_ID = \"\"\n",
    "BEDROCK_AGENT_ALIAS_ID = \"\"\n",
    "REGION = \"\""
   ]
  },
  {
   "cell_type": "code",
   "execution_count": null,
   "id": "01d01d31",
   "metadata": {},
   "outputs": [
    {
     "name": "stdout",
     "output_type": "stream",
     "text": [
      "✅ Agent response:\n",
      "\n"
     ]
    }
   ],
   "source": [
    "import boto3\n",
    "import uuid\n",
    "import json\n",
    "\n",
    "# User input\n",
    "user_prompt = \"What is the weather in London?\"\n",
    "\n",
    "# Generate unique session ID\n",
    "session_id = str(uuid.uuid4())\n",
    "\n",
    "# Create Bedrock Agent Runtime client\n",
    "client = boto3.client(\"bedrock-agent-runtime\", region_name=REGION)\n",
    "\n",
    "# Call the agent\n",
    "try:\n",
    "    response_stream = client.invoke_agent(\n",
    "        agentId=BEDROCK_AGENT_ID,\n",
    "        agentAliasId=BEDROCK_AGENT_ALIAS_ID,\n",
    "        sessionId=session_id,\n",
    "        inputText=user_prompt\n",
    "    )\n",
    "\n",
    "    # Parse streaming response\n",
    "    completion = \"\"\n",
    "    for event in response_stream.get(\"completion\", []):\n",
    "        chunk = event[\"chunk\"]\n",
    "        completion = completion + chunk[\"bytes\"].decode()\n",
    "\n",
    "    print(\"✅ Agent response:\")\n",
    "    print(completion)\n",
    "\n",
    "except client.exceptions.AccessDeniedException as e:\n",
    "    print(\"❌ Access denied:\", e)\n",
    "except Exception as e:\n",
    "    print(\"❌ Unexpected error:\", e)\n"
   ]
  },
  {
   "cell_type": "markdown",
   "id": "34fe09d7",
   "metadata": {},
   "source": []
  }
 ],
 "metadata": {
  "kernelspec": {
   "display_name": "Python 3",
   "language": "python",
   "name": "python3"
  },
  "language_info": {
   "codemirror_mode": {
    "name": "ipython",
    "version": 3
   },
   "file_extension": ".py",
   "mimetype": "text/x-python",
   "name": "python",
   "nbconvert_exporter": "python",
   "pygments_lexer": "ipython3",
   "version": "3.11.0"
  }
 },
 "nbformat": 4,
 "nbformat_minor": 5
}
